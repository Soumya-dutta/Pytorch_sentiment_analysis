{
  "nbformat": 4,
  "nbformat_minor": 0,
  "metadata": {
    "colab": {
      "name": "Pytorch-sentiment.ipynb",
      "provenance": [],
      "collapsed_sections": []
    },
    "kernelspec": {
      "name": "python3",
      "display_name": "Python 3"
    },
    "accelerator": "GPU"
  },
  "cells": [
    {
      "cell_type": "code",
      "metadata": {
        "id": "Vd38uXUffHqG",
        "colab": {
          "base_uri": "https://localhost:8080/",
          "height": 122
        },
        "outputId": "b7365a0b-b27d-4bf2-9979-8c4accac2de5"
      },
      "source": [
        "from google.colab import drive\n",
        "drive.mount('/content/gdrive', force_remount = True)\n"
      ],
      "execution_count": null,
      "outputs": [
        {
          "output_type": "stream",
          "text": [
            "Go to this URL in a browser: https://accounts.google.com/o/oauth2/auth?client_id=947318989803-6bn6qk8qdgf4n4g3pfee6491hc0brc4i.apps.googleusercontent.com&redirect_uri=urn%3aietf%3awg%3aoauth%3a2.0%3aoob&scope=email%20https%3a%2f%2fwww.googleapis.com%2fauth%2fdocs.test%20https%3a%2f%2fwww.googleapis.com%2fauth%2fdrive%20https%3a%2f%2fwww.googleapis.com%2fauth%2fdrive.photos.readonly%20https%3a%2f%2fwww.googleapis.com%2fauth%2fpeopleapi.readonly&response_type=code\n",
            "\n",
            "Enter your authorization code:\n",
            "··········\n",
            "Mounted at /content/gdrive\n"
          ],
          "name": "stdout"
        }
      ]
    },
    {
      "cell_type": "code",
      "metadata": {
        "id": "sq76Y68cfXkM"
      },
      "source": [
        "dataset_path = 'gdrive/My Drive/Projects/Pytorch/Sentiment_analysis/'"
      ],
      "execution_count": null,
      "outputs": []
    },
    {
      "cell_type": "code",
      "metadata": {
        "id": "6bMaD6qwf6l1",
        "colab": {
          "base_uri": "https://localhost:8080/",
          "height": 190
        },
        "outputId": "60b2d9ab-e437-4591-fd73-8cc2666287c4"
      },
      "source": [
        "!pip install pytreebank"
      ],
      "execution_count": null,
      "outputs": [
        {
          "output_type": "stream",
          "text": [
            "Collecting pytreebank\n",
            "  Downloading https://files.pythonhosted.org/packages/e0/12/626ead6f6c0a0a9617396796b965961e9dfa5e78b36c17a81ea4c43554b1/pytreebank-0.2.7.tar.gz\n",
            "Building wheels for collected packages: pytreebank\n",
            "  Building wheel for pytreebank (setup.py) ... \u001b[?25l\u001b[?25hdone\n",
            "  Created wheel for pytreebank: filename=pytreebank-0.2.7-cp36-none-any.whl size=37070 sha256=d86caf9238c99bd3015c4c6cbbe3918b1207f7f62fff80ecb63f82b6833e0f29\n",
            "  Stored in directory: /root/.cache/pip/wheels/e0/b6/91/e9edcdbf464f623628d5c3aa9de28888c726e270b9a29f2368\n",
            "Successfully built pytreebank\n",
            "Installing collected packages: pytreebank\n",
            "Successfully installed pytreebank-0.2.7\n"
          ],
          "name": "stdout"
        }
      ]
    },
    {
      "cell_type": "code",
      "metadata": {
        "id": "8c4fsusPgoqD"
      },
      "source": [
        "import pytreebank"
      ],
      "execution_count": null,
      "outputs": []
    },
    {
      "cell_type": "code",
      "metadata": {
        "id": "GOLuJhJ7gsZK",
        "colab": {
          "base_uri": "https://localhost:8080/",
          "height": 51
        },
        "outputId": "27a336a7-166c-4274-cdbf-5019eaf02692"
      },
      "source": [
        "import sys\n",
        "import os\n",
        "\n",
        "out_path = os.path.join(dataset_path,sys.path[0], 'sst_{}.txt')\n",
        "print(out_path)\n",
        "dataset = pytreebank.load_sst('./raw_data')\n",
        "# Store train, dev and test in separate files\n",
        "for category in ['train', 'test', 'dev']:\n",
        "    with open(out_path.format(category), 'w') as outfile:\n",
        "        for item in dataset[category]:\n",
        "            outfile.write(\"{}\\t{}\\n\".format(\n",
        "                item.to_labeled_lines()[0][1],\n",
        "                item.to_labeled_lines()[0][0] + 1,\n",
        "            ))\n",
        "# Print the length of the training set\n",
        "print(len(dataset['train']))"
      ],
      "execution_count": null,
      "outputs": [
        {
          "output_type": "stream",
          "text": [
            "gdrive/My Drive/Projects/Pytorch/Sentiment_analysis/sst_{}.txt\n",
            "8544\n"
          ],
          "name": "stdout"
        }
      ]
    },
    {
      "cell_type": "markdown",
      "metadata": {
        "id": "JiYC4rLj1hDx"
      },
      "source": [
        "Train, test and dev data is extracted and stored in separate csv files"
      ]
    },
    {
      "cell_type": "code",
      "metadata": {
        "id": "78uPEXLNguyB",
        "colab": {
          "base_uri": "https://localhost:8080/",
          "height": 425
        },
        "outputId": "de9d5ce2-8904-4c43-b4b2-851a9eeff9c1"
      },
      "source": [
        "import pandas as pd\n",
        "# Read train data\n",
        "for file in ['sst_train','sst_test','sst_dev']:\n",
        "  print(file)\n",
        "  df = pd.read_csv(dataset_path+file+'.txt', sep='\\t', header=None, names=['text', 'truth'])\n",
        "  #df['truth'] = df['truth'].str.replace('__label__', '')\n",
        "  df['truth'] = df['truth'].astype(int).astype('category')\n",
        "  print(df.shape[0])\n",
        "  print(df.head())\n",
        "  df.to_csv(dataset_path + file+'.csv',index = False)"
      ],
      "execution_count": null,
      "outputs": [
        {
          "output_type": "stream",
          "text": [
            "sst_train\n",
            "8544\n",
            "                                                text truth\n",
            "0  The Rock is destined to be the 21st Century 's...     4\n",
            "1  The gorgeously elaborate continuation of `` Th...     5\n",
            "2  Singer/composer Bryan Adams contributes a slew...     4\n",
            "3  You 'd think by now America would have had eno...     3\n",
            "4               Yet the act is still charming here .     4\n",
            "sst_test\n",
            "2210\n",
            "                                                text truth\n",
            "0                     Effective but too-tepid biopic     3\n",
            "1  If you sometimes like to go to the movies to h...     4\n",
            "2  Emerges as something rare , an issue movie tha...     5\n",
            "3  The film provides some great insight into the ...     3\n",
            "4  Offers that rare combination of entertainment ...     5\n",
            "sst_dev\n",
            "1101\n",
            "                                                text truth\n",
            "0  It 's a lovely film with lovely performances b...     4\n",
            "1  No one goes unindicted here , which is probabl...     3\n",
            "2  And if you 're not nearly moved to tears by a ...     4\n",
            "3                   A warm , funny , engaging film .     5\n",
            "4  Uses sharp humor and insight into human nature...     5\n"
          ],
          "name": "stdout"
        }
      ]
    },
    {
      "cell_type": "code",
      "metadata": {
        "id": "8ZhpO25og4YB"
      },
      "source": [
        "import torch\n",
        "from torchtext import data\n",
        "\n",
        "SEED = 1234\n",
        "import pandas as pd\n",
        "import numpy as np\n",
        "torch.manual_seed(SEED)\n",
        "torch.cuda.manual_seed(SEED)\n",
        "torch.backends.cudnn.deterministic = True\n",
        "import torch.nn as nn\n",
        "import torch.optim as optim\n",
        "import torch.nn.functional as F\n",
        "import torchtext\n",
        "\n",
        "import nltk\n",
        "\n",
        "import random\n",
        "from sklearn.metrics import classification_report\n",
        "\n",
        "#import pyprind\n",
        "%matplotlib inline "
      ],
      "execution_count": null,
      "outputs": []
    },
    {
      "cell_type": "code",
      "metadata": {
        "id": "FfzEQsaWg-ck"
      },
      "source": [
        "import spacy\n",
        "spacy_en = spacy.load('en')"
      ],
      "execution_count": null,
      "outputs": []
    },
    {
      "cell_type": "code",
      "metadata": {
        "id": "q3JoF1a7hCwU",
        "colab": {
          "base_uri": "https://localhost:8080/",
          "height": 34
        },
        "outputId": "cf03369a-937a-427e-a8a1-995c69cf3a8d"
      },
      "source": [
        "is_cuda = torch.cuda.is_available()\n",
        "print(\"Cuda Status on system is {}\".format(is_cuda))"
      ],
      "execution_count": null,
      "outputs": [
        {
          "output_type": "stream",
          "text": [
            "Cuda Status on system is True\n"
          ],
          "name": "stdout"
        }
      ]
    },
    {
      "cell_type": "markdown",
      "metadata": {
        "id": "M62yN-OS1rEq"
      },
      "source": [
        "Tokenizer from NLTK is seen to give the best results"
      ]
    },
    {
      "cell_type": "code",
      "metadata": {
        "id": "bNEmQOLrhFEe",
        "colab": {
          "base_uri": "https://localhost:8080/",
          "height": 51
        },
        "outputId": "aa8ca502-9b14-47e3-a82f-073203a48ec6"
      },
      "source": [
        "'''from nltk.corpus import stopwords\n",
        "from nltk.tokenize import word_tokenize\n",
        "import nltk\n",
        "import string\n",
        "nltk.download('stopwords')\n",
        "nltk.download('wordnet')\n",
        "nltk.download('punkt')\n",
        "from nltk.stem.wordnet import WordNetLemmatizer\n",
        "lmtzr = WordNetLemmatizer()\n",
        "stop_words = stopwords.words('english')\n",
        "table = str.maketrans(string.punctuation, ' '*len(string.punctuation))'''\n",
        "nltk.download('punkt')\n",
        "def tokenizer(text):\n",
        "  return [tok for tok in nltk.word_tokenize(text)]"
      ],
      "execution_count": null,
      "outputs": [
        {
          "output_type": "stream",
          "text": [
            "[nltk_data] Downloading package punkt to /root/nltk_data...\n",
            "[nltk_data]   Unzipping tokenizers/punkt.zip.\n"
          ],
          "name": "stdout"
        }
      ]
    },
    {
      "cell_type": "markdown",
      "metadata": {
        "id": "HnkELgtv1y5m"
      },
      "source": [
        "Text and Label fields are created"
      ]
    },
    {
      "cell_type": "code",
      "metadata": {
        "id": "-dqs_NifhKjk"
      },
      "source": [
        "TEXT = data.Field(sequential=True, tokenize=tokenizer, include_lengths=True)\n",
        "LABEL = data.LabelField(dtype=torch.long, sequential=False)"
      ],
      "execution_count": null,
      "outputs": []
    },
    {
      "cell_type": "code",
      "metadata": {
        "id": "eUTZCaztrfgD"
      },
      "source": [
        "device = torch.device('cuda' if torch.cuda.is_available() else 'cpu')"
      ],
      "execution_count": null,
      "outputs": []
    },
    {
      "cell_type": "code",
      "metadata": {
        "id": "5nz1Dwffrmly",
        "colab": {
          "base_uri": "https://localhost:8080/",
          "height": 34
        },
        "outputId": "01f8d643-3114-49e7-ab12-d088edabff71"
      },
      "source": [
        "df.shape[0]"
      ],
      "execution_count": null,
      "outputs": [
        {
          "output_type": "execute_result",
          "data": {
            "text/plain": [
              "1101"
            ]
          },
          "metadata": {
            "tags": []
          },
          "execution_count": 13
        }
      ]
    },
    {
      "cell_type": "code",
      "metadata": {
        "id": "jxusj-KErtD1"
      },
      "source": [
        "train_data, valid_data, test_data = data.TabularDataset.splits(\n",
        "    path=dataset_path, train=\"sst_train.csv\", \n",
        "    validation=\"sst_dev.csv\", test=\"sst_test.csv\",format=\"csv\", skip_header=True, \n",
        "    fields=[('text', TEXT), ('truth', LABEL)]\n",
        ")"
      ],
      "execution_count": null,
      "outputs": []
    },
    {
      "cell_type": "code",
      "metadata": {
        "id": "k8bMXplTrzw4",
        "colab": {
          "base_uri": "https://localhost:8080/",
          "height": 68
        },
        "outputId": "b4d32864-ada1-44da-e3ac-804ac357b6b1"
      },
      "source": [
        "print(f'Number of training examples: {len(train_data)}')\n",
        "print(f'Number of valid examples: {len(valid_data)}')\n",
        "print(f'Number of testing examples: {len(test_data)}')"
      ],
      "execution_count": null,
      "outputs": [
        {
          "output_type": "stream",
          "text": [
            "Number of training examples: 8544\n",
            "Number of valid examples: 1101\n",
            "Number of testing examples: 2210\n"
          ],
          "name": "stdout"
        }
      ]
    },
    {
      "cell_type": "markdown",
      "metadata": {
        "id": "I4jD9LOn1-Vp"
      },
      "source": [
        "Vocabulary is built using the Glove 300d embedding"
      ]
    },
    {
      "cell_type": "code",
      "metadata": {
        "id": "JySMGfJ3r6WZ",
        "colab": {
          "base_uri": "https://localhost:8080/",
          "height": 34
        },
        "outputId": "818fc2b0-b727-4612-cfe7-702ee37fe849"
      },
      "source": [
        "TEXT.build_vocab(train_data, vectors=torchtext.vocab.Vectors(dataset_path+\"glove.840B.300d.txt\"), \n",
        "                 max_size=20000,unk_init = torch.Tensor.normal_)\n",
        "LABEL.build_vocab(train_data)"
      ],
      "execution_count": null,
      "outputs": [
        {
          "output_type": "stream",
          "text": [
            "100%|█████████▉| 2195280/2196017 [05:40<00:00, 7380.07it/s]"
          ],
          "name": "stderr"
        }
      ]
    },
    {
      "cell_type": "code",
      "metadata": {
        "id": "SNfZBMLIr9Ol",
        "colab": {
          "base_uri": "https://localhost:8080/",
          "height": 51
        },
        "outputId": "adb3e394-f23a-40d5-c288-323969d6ea29"
      },
      "source": [
        "print(f\"Unique tokens in TEXT vocabulary: {len(TEXT.vocab)}\")\n",
        "print(f\"Unique tokens in LABEL vocabulary: {len(LABEL.vocab)}\")\n"
      ],
      "execution_count": null,
      "outputs": [
        {
          "output_type": "stream",
          "text": [
            "Unique tokens in TEXT vocabulary: 18272\n",
            "Unique tokens in LABEL vocabulary: 5\n"
          ],
          "name": "stdout"
        }
      ]
    },
    {
      "cell_type": "markdown",
      "metadata": {
        "id": "PZHo1Ufz2Ex7"
      },
      "source": [
        "3 iterators for ttrain, val and test data is created. They are sorted by length of the sentences. Length of any batch is given by the longest sentence in the batch."
      ]
    },
    {
      "cell_type": "code",
      "metadata": {
        "id": "LtEbtFvexHvn",
        "colab": {
          "base_uri": "https://localhost:8080/",
          "height": 34
        },
        "outputId": "33eef67c-2b83-4112-f372-40cc32690c9c"
      },
      "source": [
        "BATCH_SIZE = 32\n",
        "\n",
        "device = torch.device('cuda' if torch.cuda.is_available() else 'cpu')\n",
        "\n",
        "# keep in mind the sort_key option \n",
        "train_iterator, valid_iterator, test_iterator = data.BucketIterator.splits(\n",
        "    (train_data, valid_data, test_data), sort_key=lambda x: len(x.text),\n",
        "    batch_size=BATCH_SIZE,\n",
        "    sort_within_batch=True,\n",
        "    device=device)\n",
        "LABEL.vocab.freqs"
      ],
      "execution_count": null,
      "outputs": [
        {
          "output_type": "execute_result",
          "data": {
            "text/plain": [
              "Counter({'1': 1092, '2': 2218, '3': 1624, '4': 2322, '5': 1288})"
            ]
          },
          "metadata": {
            "tags": []
          },
          "execution_count": 18
        }
      ]
    },
    {
      "cell_type": "markdown",
      "metadata": {
        "id": "3Zg6ziNf2eBC"
      },
      "source": [
        "Model is created\n",
        "\n",
        "1.   Embedding is used with pad token for the pad elements\n",
        "2.   A bidirectional LSTM is used on the embedded vectors\n",
        "3.   **Multiplicative Attention** is used to preserve long term dependencies\n",
        "\n"
      ]
    },
    {
      "cell_type": "code",
      "metadata": {
        "id": "0Ni9zLrHxOAZ"
      },
      "source": [
        "class RNN(nn.Module):\n",
        "    def __init__(self, input_dim, embedding_dim, hidden_dim, output_dim, dropout, layers, bidirectional_flag, pad_idx):\n",
        "        super().__init__()\n",
        "        \n",
        "        self.embedding = nn.Embedding(input_dim, embedding_dim,padding_idx=pad_idx)\n",
        "        #self.embedding.weight.requires_grad = True\n",
        "        self.rnn = nn.LSTM(embedding_dim, hidden_dim, num_layers=layers, bidirectional=bidirectional_flag)\n",
        "        if bidirectional_flag == True:\n",
        "          self.fc = nn.Linear(2*hidden_dim, output_dim)\n",
        "        else:\n",
        "          self.fc = nn.Linear(hidden_dim, output_dim)\n",
        "        self.dropout = nn.Dropout(dropout)\n",
        "        self.num_layers = layers\n",
        "        self.ui = nn.Linear(2*hidden_dim, 100)\n",
        "        self.ui1 = nn.Linear(2*hidden_dim, 100)\n",
        "        self.v = nn.Parameter(torch.randn(100))\n",
        "        self.query = nn.Parameter(torch.randn(1000))\n",
        "        self.bidirectional_used = bidirectional_flag\n",
        "        self.hidden_dim = hidden_dim\n",
        "        \n",
        "    def forward(self, x, text_lengths, i_hidden):\n",
        "\n",
        "        #x = [sent len, batch size]\n",
        "        non_l = nn.ReLU()\n",
        "        embedded = self.dropout(self.embedding(x))\n",
        "        #embedded = [sent len, batch size, emb dim]\n",
        "        packed_embedded = nn.utils.rnn.pack_padded_sequence(embedded, text_lengths)\n",
        "        \n",
        "        packed_output, (hidden, cell) = self.rnn(packed_embedded, i_hidden)\n",
        "        output, output_lengths = nn.utils.rnn.pad_packed_sequence(packed_output)\n",
        "        u_it = self.ui(output)\n",
        "        u_it1 = self.ui1(self.query)\n",
        "        u_sum = u_it + u_it1\n",
        "        #weights = torch.softmax((u_it.matmul(self.uw)), dim=0).unsqueeze(2)\n",
        "        weights = torch.softmax((u_sum.matmul(self.v)), dim=0).unsqueeze(2)\n",
        "        weights3D = torch.repeat_interleave(weights, 1000, axis=2)\n",
        "        #print((weights.matmul(output)).size())\n",
        "        sent = torch.sum(weights3D*output, dim=0)\n",
        "        #print(sent.size())\n",
        "        #output, (hidden, cell_state) = self.rnn(embedded)\n",
        "        #output, hidden = self.rnn(embedded)\n",
        "        \n",
        "        \n",
        "        #output = [sent len, batch size, hid dim]\n",
        "        #hidden = [1, batch size, hid dim]\n",
        "        '''\n",
        "        if self.bidirectional_used == True:\n",
        "          layer_list = [-1, -2]\n",
        "        else:\n",
        "          layer_list = [-1]\n",
        "        hidden = torch.cat(tuple([hidden[i, :, :] for i in layer_list]), dim=1)'''\n",
        "        #hidden = self.dropout(torch.cat((hidden[-2,:,:], hidden[-1,:,:]), dim = 1))\n",
        "        #assert torch.equal(output[-1,:,:], hidden.squeeze(0))\n",
        "        #return self.fc(hidden.squeeze(0))\n",
        "        \n",
        "        out = self.fc(sent)\n",
        "        return out"
      ],
      "execution_count": null,
      "outputs": []
    },
    {
      "cell_type": "markdown",
      "metadata": {
        "id": "EhMTcovQ3sKZ"
      },
      "source": [
        "The set of hyperparameters that gave the best result"
      ]
    },
    {
      "cell_type": "code",
      "metadata": {
        "id": "hkBglIW1xU7I"
      },
      "source": [
        "INPUT_DIM = len(TEXT.vocab)\n",
        "EMBEDDING_DIM = 300\n",
        "HIDDEN_DIM = 500\n",
        "OUTPUT_DIM = 5\n",
        "DROPOUT = 0.5\n",
        "LAYERS = 3\n",
        "BIDIRECTIONAL_FLAG = True\n",
        "PAD_IDX = TEXT.vocab.stoi[TEXT.pad_token]\n",
        "\n",
        "model = RNN(INPUT_DIM, EMBEDDING_DIM, HIDDEN_DIM, OUTPUT_DIM, DROPOUT, LAYERS, BIDIRECTIONAL_FLAG, PAD_IDX)"
      ],
      "execution_count": null,
      "outputs": []
    },
    {
      "cell_type": "code",
      "metadata": {
        "id": "gN2U9Fm4xZTb",
        "colab": {
          "base_uri": "https://localhost:8080/",
          "height": 34
        },
        "outputId": "24dc1132-2af4-4c57-8192-96a4d49469a5"
      },
      "source": [
        "pretrained_embeddings = TEXT.vocab.vectors\n",
        "\n",
        "print(pretrained_embeddings.shape)"
      ],
      "execution_count": null,
      "outputs": [
        {
          "output_type": "stream",
          "text": [
            "torch.Size([18272, 300])\n"
          ],
          "name": "stdout"
        }
      ]
    },
    {
      "cell_type": "code",
      "metadata": {
        "id": "aEl_G8usxbcx",
        "colab": {
          "base_uri": "https://localhost:8080/",
          "height": 136
        },
        "outputId": "2452cdf6-54e0-48c0-9a51-0226af351f7d"
      },
      "source": [
        "model.embedding.weight.data.copy_(pretrained_embeddings)"
      ],
      "execution_count": null,
      "outputs": [
        {
          "output_type": "execute_result",
          "data": {
            "text/plain": [
              "tensor([[ 0.0000,  0.0000,  0.0000,  ...,  0.0000,  0.0000,  0.0000],\n",
              "        [ 0.0000,  0.0000,  0.0000,  ...,  0.0000,  0.0000,  0.0000],\n",
              "        [ 0.0120,  0.2075, -0.1258,  ...,  0.1387, -0.3605, -0.0350],\n",
              "        ...,\n",
              "        [ 0.0495, -0.2737, -0.2819,  ..., -0.2686,  0.5445,  0.1999],\n",
              "        [ 0.8430, -0.0559, -0.0837,  ...,  0.9208, -0.2708, -0.4322],\n",
              "        [ 0.4218,  0.2891,  0.6224,  ..., -0.0994, -0.3216, -0.2066]])"
            ]
          },
          "metadata": {
            "tags": []
          },
          "execution_count": 275
        }
      ]
    },
    {
      "cell_type": "code",
      "metadata": {
        "id": "ezvlKzTvSyeN",
        "colab": {
          "base_uri": "https://localhost:8080/",
          "height": 136
        },
        "outputId": "586a479a-654e-40a7-8e91-fbe5b5cb27ee"
      },
      "source": [
        "UNK_IDX = TEXT.vocab.stoi[TEXT.unk_token]\n",
        "\n",
        "model.embedding.weight.data[UNK_IDX] = torch.zeros(EMBEDDING_DIM)\n",
        "model.embedding.weight.data[PAD_IDX] = torch.zeros(EMBEDDING_DIM)\n",
        "\n",
        "print(model.embedding.weight.data)"
      ],
      "execution_count": null,
      "outputs": [
        {
          "output_type": "stream",
          "text": [
            "tensor([[ 0.0000,  0.0000,  0.0000,  ...,  0.0000,  0.0000,  0.0000],\n",
            "        [ 0.0000,  0.0000,  0.0000,  ...,  0.0000,  0.0000,  0.0000],\n",
            "        [ 0.0120,  0.2075, -0.1258,  ...,  0.1387, -0.3605, -0.0350],\n",
            "        ...,\n",
            "        [ 0.0495, -0.2737, -0.2819,  ..., -0.2686,  0.5445,  0.1999],\n",
            "        [ 0.8430, -0.0559, -0.0837,  ...,  0.9208, -0.2708, -0.4322],\n",
            "        [ 0.4218,  0.2891,  0.6224,  ..., -0.0994, -0.3216, -0.2066]])\n"
          ],
          "name": "stdout"
        }
      ]
    },
    {
      "cell_type": "code",
      "metadata": {
        "id": "d8mWDRTwxfrR"
      },
      "source": [
        "optimizer = optim.Adam(model.parameters(), lr=1e-4)\n",
        "criterion = nn.CrossEntropyLoss()\n",
        "model = model.to(device)\n",
        "criterion = criterion.to(device)"
      ],
      "execution_count": null,
      "outputs": []
    },
    {
      "cell_type": "code",
      "metadata": {
        "id": "2jNHlipzSvII",
        "colab": {
          "base_uri": "https://localhost:8080/",
          "height": 34
        },
        "outputId": "51a4af7f-d76f-49f4-ed63-ab97a2c76943"
      },
      "source": [
        "def count_parameters(model):\n",
        "    return sum(p.numel() for p in model.parameters() if p.requires_grad)\n",
        "\n",
        "print(f'The model has {count_parameters(model):,} trainable parameters')"
      ],
      "execution_count": null,
      "outputs": [
        {
          "output_type": "stream",
          "text": [
            "The model has 20,911,905 trainable parameters\n"
          ],
          "name": "stdout"
        }
      ]
    },
    {
      "cell_type": "code",
      "metadata": {
        "id": "_m3wKfzcxiC_"
      },
      "source": [
        "def binary_accuracy(preds1, y):\n",
        "    \"\"\"\n",
        "    Returns accuracy per batch, i.e. if you get 8/10 right, this returns 0.8, NOT 8\n",
        "    \"\"\"\n",
        "    preds, ind= torch.max(F.softmax(preds1),1)\n",
        "    correct = (ind == y).float()\n",
        "    acc = correct.sum()/float(len(correct))\n",
        "    return acc"
      ],
      "execution_count": null,
      "outputs": []
    },
    {
      "cell_type": "code",
      "metadata": {
        "id": "Z09K9OXmxkMi"
      },
      "source": [
        "def train(model, iterator, optimizer, criterion):\n",
        "    \n",
        "    epoch_loss = 0\n",
        "    epoch_acc = 0\n",
        "    #hidden = model.init_hidden(BATCH_SIZE)\n",
        "    model.train()\n",
        "    #bar = pyprind.ProgBar(len(iterator), bar_char='█')\n",
        "    for batch in iterator:\n",
        "        #print(batch.batch_size)\n",
        "        optimizer.zero_grad()\n",
        "        text, text_lengths = batch.text\n",
        "        hidden = model.init_hidden(batch.batch_size)\n",
        "        predictions = model(text, text_lengths, hidden).squeeze(1)\n",
        "      \n",
        "        loss = criterion(predictions, batch.truth)\n",
        "        loss.backward()\n",
        "\n",
        "        acc = binary_accuracy(predictions, batch.truth)\n",
        "        \n",
        "        optimizer.step()\n",
        "        \n",
        "        epoch_loss += loss.item()\n",
        "        epoch_acc += acc.item()\n",
        "        #bar.update()\n",
        "    return epoch_loss / len(iterator), epoch_acc / len(iterator)"
      ],
      "execution_count": null,
      "outputs": []
    },
    {
      "cell_type": "code",
      "metadata": {
        "id": "NStU-2oQxnOt"
      },
      "source": [
        "\n",
        "def evaluate(model, iterator, criterion):\n",
        "    \n",
        "    epoch_loss = 0\n",
        "    epoch_acc = 0\n",
        "    #hidden = model.init_hidden(BATCH_SIZE)\n",
        "    model.eval()\n",
        "    \n",
        "    with torch.no_grad():\n",
        "        #bar = pyprind.ProgBar(len(iterator), bar_char='█')\n",
        "        for batch in iterator:\n",
        "            text, text_lengths = batch.text\n",
        "            hidden = model.init_hidden(batch.batch_size)\n",
        "            predictions = model(text, text_lengths, hidden).squeeze(1)\n",
        "\n",
        "            #predictions = predictions.squeeze(0)\n",
        "            \n",
        "            loss = criterion(predictions, batch.truth)\n",
        "            \n",
        "            acc = binary_accuracy(predictions, batch.truth)\n",
        "\n",
        "            epoch_loss += loss.item()\n",
        "            epoch_acc += acc.item()\n",
        "            #bar.update()\n",
        "    return epoch_loss / len(iterator), epoch_acc / len(iterator)"
      ],
      "execution_count": null,
      "outputs": []
    },
    {
      "cell_type": "markdown",
      "metadata": {
        "id": "bQw7UEh-3zMu"
      },
      "source": [
        "Best model is saved based on validation loss"
      ]
    },
    {
      "cell_type": "code",
      "metadata": {
        "id": "Yc-H72QOxq75",
        "colab": {
          "base_uri": "https://localhost:8080/",
          "height": 241
        },
        "outputId": "06ef5136-dd9f-4022-8918-7524346aaf32"
      },
      "source": [
        "N_EPOCHS = 10\n",
        "best_valid_loss = float('inf')\n",
        "for epoch in range(N_EPOCHS):\n",
        "\n",
        "    train_loss, train_acc = train(model, train_iterator, optimizer, criterion)\n",
        "    valid_loss, valid_acc = evaluate(model, valid_iterator, criterion)\n",
        "    if valid_loss < best_valid_loss:\n",
        "        best_valid_loss = valid_loss\n",
        "        torch.save(model.state_dict(), dataset_path+'model-1.pt')\n",
        "    #test_loss, test_acc = evaluate(model, test_iterator, criterion)\n",
        "\n",
        "    \n",
        "    print(f'| Epoch: {epoch+1:02} | Train Loss: {train_loss:.3f} | Train Acc: {train_acc*100:.2f}% | Val. Loss: {valid_loss:.3f} | Val. Acc: {valid_acc*100:.2f}')"
      ],
      "execution_count": null,
      "outputs": [
        {
          "output_type": "stream",
          "text": [
            "/usr/local/lib/python3.6/dist-packages/ipykernel_launcher.py:5: UserWarning: Implicit dimension choice for softmax has been deprecated. Change the call to include dim=X as an argument.\n",
            "  \"\"\"\n"
          ],
          "name": "stderr"
        },
        {
          "output_type": "stream",
          "text": [
            "| Epoch: 01 | Train Loss: 1.449 | Train Acc: 35.59% | Val. Loss: 1.366 | Val. Acc: 39.71\n",
            "| Epoch: 02 | Train Loss: 1.340 | Train Acc: 40.91% | Val. Loss: 1.343 | Val. Acc: 39.90\n",
            "| Epoch: 03 | Train Loss: 1.288 | Train Acc: 43.73% | Val. Loss: 1.309 | Val. Acc: 41.90\n",
            "| Epoch: 04 | Train Loss: 1.261 | Train Acc: 45.20% | Val. Loss: 1.287 | Val. Acc: 43.47\n",
            "| Epoch: 05 | Train Loss: 1.222 | Train Acc: 46.86% | Val. Loss: 1.283 | Val. Acc: 44.62\n",
            "| Epoch: 06 | Train Loss: 1.193 | Train Acc: 48.14% | Val. Loss: 1.294 | Val. Acc: 43.38\n",
            "| Epoch: 07 | Train Loss: 1.181 | Train Acc: 48.76% | Val. Loss: 1.270 | Val. Acc: 43.70\n",
            "| Epoch: 08 | Train Loss: 1.143 | Train Acc: 50.80% | Val. Loss: 1.283 | Val. Acc: 43.65\n",
            "| Epoch: 09 | Train Loss: 1.120 | Train Acc: 52.38% | Val. Loss: 1.279 | Val. Acc: 43.07\n",
            "| Epoch: 10 | Train Loss: 1.108 | Train Acc: 52.66% | Val. Loss: 1.297 | Val. Acc: 44.36\n"
          ],
          "name": "stdout"
        }
      ]
    },
    {
      "cell_type": "markdown",
      "metadata": {
        "id": "r14GWMnY333T"
      },
      "source": [
        "Test accuracy is seen to be **47.68%**"
      ]
    },
    {
      "cell_type": "code",
      "metadata": {
        "id": "UrVn0edJxtdg",
        "colab": {
          "base_uri": "https://localhost:8080/",
          "height": 88
        },
        "outputId": "543facdf-5286-47c3-98eb-839273111b64"
      },
      "source": [
        "model.load_state_dict(torch.load(dataset_path+'model-1.pt'))\n",
        "\n",
        "test_loss, test_acc = evaluate(model, test_iterator, criterion)\n",
        "\n",
        "print(f'Test Loss: {test_loss:.3f} | Test Acc: {test_acc*100:.2f}%')"
      ],
      "execution_count": null,
      "outputs": [
        {
          "output_type": "stream",
          "text": [
            "/usr/local/lib/python3.6/dist-packages/ipykernel_launcher.py:5: UserWarning: Implicit dimension choice for softmax has been deprecated. Change the call to include dim=X as an argument.\n",
            "  \"\"\"\n"
          ],
          "name": "stderr"
        },
        {
          "output_type": "stream",
          "text": [
            "Test Loss: 1.197 | Test Acc: 47.68%\n"
          ],
          "name": "stdout"
        }
      ]
    },
    {
      "cell_type": "code",
      "metadata": {
        "id": "lHRSxaGxO8iL"
      },
      "source": [
        ""
      ],
      "execution_count": null,
      "outputs": []
    }
  ]
}